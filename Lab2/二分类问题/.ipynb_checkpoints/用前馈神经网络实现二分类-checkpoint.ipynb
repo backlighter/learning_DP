{
 "cells": [
  {
   "cell_type": "code",
   "execution_count": 3,
   "id": "04185204",
   "metadata": {},
   "outputs": [
    {
     "name": "stdout",
     "output_type": "stream",
     "text": [
      "Dataset 1 - Train Features shape: (10, 200)\n",
      "Dataset 1 - Train Labels shape: (10,)\n",
      "Dataset 1 - Test Features shape: (3000, 200)\n",
      "Dataset 1 - Test Labels shape: (3000,)\n"
     ]
    }
   ],
   "source": [
    "import numpy as np\n",
    "\n",
    "# 定义函数生成二分类数据集\n",
    "def generate_classification_dataset(size, feature_dim, mean_diff):\n",
    "    # 生成均值为 mean_diff 和 -mean_diff，方差为 1 的正态分布数据\n",
    "    X1 = np.random.normal(loc=mean_diff, scale=1, size=(size//2, feature_dim))\n",
    "    X2 = np.random.normal(loc=-mean_diff, scale=1, size=(size//2, feature_dim))\n",
    "    \n",
    "    # 将两个数据集合并，并为它们的标签分别赋值为 0 和 1\n",
    "    X = np.vstack((X1, X2))\n",
    "    y = np.hstack((np.zeros(size//2), np.ones(size//2)))\n",
    "    \n",
    "    # 打乱数据集的顺序，确保数据的随机性\n",
    "    idx = np.random.permutation(size)\n",
    "    X = X[idx]\n",
    "    y = y[idx]\n",
    "    \n",
    "    return X, y\n",
    "\n",
    "# 定义数据集大小和特征维度\n",
    "data_size = 10000\n",
    "train_size = 10\n",
    "test_size = 3000\n",
    "feature_dim = 200\n",
    "mean_difference = 2.0  # 均值差异，设置为 2.0\n",
    "\n",
    "# 生成两个数据集\n",
    "X_train1, y_train1 = generate_classification_dataset(train_size, feature_dim, mean_difference)\n",
    "X_test1, y_test1 = generate_classification_dataset(test_size, feature_dim, mean_difference)\n",
    "# 将数据集打印输出\n",
    "print(\"Dataset 1 - Train Features shape:\", X_train1.shape)\n",
    "print(\"Dataset 1 - Train Labels shape:\", y_train1.shape)\n",
    "print(\"Dataset 1 - Test Features shape:\", X_test1.shape)\n",
    "print(\"Dataset 1 - Test Labels shape:\", y_test1.shape)\n"
   ]
  },
  {
   "cell_type": "code",
   "execution_count": 4,
   "id": "36a97e0d",
   "metadata": {},
   "outputs": [
    {
     "name": "stdout",
     "output_type": "stream",
     "text": [
      "Epoch [1/5], Loss: 0.5602\n",
      "Epoch [2/5], Loss: 0.3914\n",
      "Epoch [3/5], Loss: 0.2922\n",
      "Epoch [4/5], Loss: 0.2293\n",
      "Epoch [5/5], Loss: 0.1864\n",
      "Test Loss: 0.1653, Test Accuracy: 1.0000\n"
     ]
    }
   ],
   "source": [
    "import torch\n",
    "import torch.nn as nn\n",
    "import torch.optim as optim\n",
    "import numpy as np\n",
    "\n",
    "# 定义前馈神经网络模型\n",
    "class FeedforwardNN(nn.Module):\n",
    "    def __init__(self, input_size, hidden_size, output_size):\n",
    "        super(FeedforwardNN, self).__init__()\n",
    "        self.fc1 = nn.Linear(input_size, hidden_size)\n",
    "        self.relu = nn.ReLU()\n",
    "        self.fc2 = nn.Linear(hidden_size, output_size)\n",
    "        \n",
    "    def forward(self, x):\n",
    "        out = self.fc1(x)\n",
    "        out = self.relu(out)\n",
    "        out = self.fc2(out)\n",
    "        return out\n",
    "\n",
    "# 定义模型超参数\n",
    "input_size = feature_dim\n",
    "hidden_size = 100\n",
    "output_size = 1\n",
    "learning_rate = 0.01\n",
    "num_epochs = 5\n",
    "\n",
    "# 初始化模型\n",
    "model = FeedforwardNN(input_size, hidden_size, output_size)\n",
    "\n",
    "# 定义损失函数和优化器\n",
    "criterion = nn.BCEWithLogitsLoss()\n",
    "optimizer = optim.SGD(model.parameters(), lr=learning_rate)\n",
    "\n",
    "# 转换数据为PyTorch的张量\n",
    "X_train = torch.tensor(X_train1, dtype=torch.float)\n",
    "y_train = torch.tensor(y_train1, dtype=torch.float)\n",
    "X_test = torch.tensor(X_test1, dtype=torch.float)\n",
    "y_test = torch.tensor(y_test1, dtype=torch.float)\n",
    "\n",
    "# 训练模型\n",
    "for epoch in range(num_epochs):\n",
    "    # 前向传播\n",
    "    outputs = model(X_train)\n",
    "    loss = criterion(outputs, y_train.unsqueeze(1))\n",
    "    \n",
    "    # 反向传播和优化\n",
    "    optimizer.zero_grad()\n",
    "    loss.backward()\n",
    "    optimizer.step()\n",
    "    \n",
    "#     if (epoch+1) % 10 == 0:\n",
    "#         print(f'Epoch [{epoch+1}/{num_epochs}], Loss: {loss.item():.4f}')\n",
    "    print(f'Epoch [{epoch+1}/{num_epochs}], Loss: {loss.item():.4f}')\n",
    "        \n",
    "        \n",
    "\n",
    "# 使用测试集评估模型\n",
    "with torch.no_grad():\n",
    "    test_outputs = model(X_test)\n",
    "    test_loss = criterion(test_outputs, y_test.unsqueeze(1))\n",
    "\n",
    "#计算测试集准确率\n",
    "def accuracy(predictions, labels):\n",
    "    rounded_predictions = torch.round(torch.sigmoid(predictions))\n",
    "#     print(rounded_predictions.view(-1).shape)\n",
    "#     print(\"label+\",labels.shape)\n",
    "#     print((rounded_predictions.view(-1) == labels).shape)\n",
    "    correct = (rounded_predictions.view(-1) == labels).sum().item()\n",
    "    total = labels.size(0)\n",
    "    return correct / total\n",
    "\n",
    "test_accuracy = accuracy(test_outputs, y_test)\n",
    "print(f'Test Loss: {test_loss.item():.4f}, Test Accuracy: {test_accuracy:.4f}')\n"
   ]
  },
  {
   "cell_type": "code",
   "execution_count": 5,
   "id": "dfe5d110",
   "metadata": {},
   "outputs": [
    {
     "data": {
      "text/plain": [
       "torch.Size([3000])"
      ]
     },
     "execution_count": 5,
     "metadata": {},
     "output_type": "execute_result"
    }
   ],
   "source": [
    "y_test.shape"
   ]
  },
  {
   "cell_type": "code",
   "execution_count": null,
   "id": "204bd3dd",
   "metadata": {},
   "outputs": [],
   "source": []
  }
 ],
 "metadata": {
  "kernelspec": {
   "display_name": "Python 3 (ipykernel)",
   "language": "python",
   "name": "python3"
  },
  "language_info": {
   "codemirror_mode": {
    "name": "ipython",
    "version": 3
   },
   "file_extension": ".py",
   "mimetype": "text/x-python",
   "name": "python",
   "nbconvert_exporter": "python",
   "pygments_lexer": "ipython3",
   "version": "3.8.17"
  }
 },
 "nbformat": 4,
 "nbformat_minor": 5
}

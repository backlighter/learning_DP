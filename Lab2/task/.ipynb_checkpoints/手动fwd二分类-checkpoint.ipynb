{
 "cells": [
  {
   "cell_type": "code",
   "execution_count": 12,
   "metadata": {},
   "outputs": [],
   "source": [
    "import torch\n",
    "import numpy as np\n",
    "import random\n",
    "from IPython import display\n",
    "import torch.utils.data as Data\n",
    "import matplotlib.pyplot as plt\n"
   ]
  },
  {
   "cell_type": "code",
   "execution_count": 13,
   "metadata": {},
   "outputs": [
    {
     "name": "stdout",
     "output_type": "stream",
     "text": [
      "torch.Size([14000, 200]) torch.Size([14000, 1]) torch.Size([6000, 200]) torch.Size([6000, 1])\n"
     ]
    }
   ],
   "source": [
    "input_num = 200\n",
    "x1 = torch.normal(2,1,(10000,input_num))\n",
    "y1 = torch.ones(10000,1)#标签1\n",
    "x1_train = x1[:7000]\n",
    "x1_test = x1[7000:]\n",
    "x2 = torch.normal(-2,1,(10000,input_num))\n",
    "y2 = torch.zeros(10000,1)#标签1\n",
    "x2_train = x1[:7000]\n",
    "x2_test = x1[7000:]\n",
    "trainfeatures=torch.cat((x1_train,x2_train),0).type(torch.FloatTensor)\n",
    "trainlabels = torch.cat((y1[:7000],y2[:7000]),0).type(torch.FloatTensor)\n",
    "testfeatures=torch.cat((x1_test,x2_test),0).type(torch.FloatTensor)\n",
    "testlabels=torch.cat((y1[7000:],y2[7000:]),0).type(torch.FloatTensor)\n"
   ]
  },
  {
   "cell_type": "code",
   "execution_count": 14,
   "metadata": {},
   "outputs": [],
   "source": [
    "#设置批量大小\n",
    "batch_size = 50\n",
    "dataset1 = Data.TensorDataset(trainfeatures,trainlabels)\n",
    "train_iter = Data.DataLoader(\n",
    "    dataset=dataset1,\n",
    "    batch_size = batch_size,\n",
    "    shuffle =True,\n",
    "    num_workers=0,\n",
    ")\n",
    "dataset2 = Data.TensorDataset(testfeatures,testlabels)\n",
    "test_iter = Data.DataLoader(\n",
    "    dataset = dataset2,\n",
    "    batch_size = batch_size,\n",
    "    shuffle = False,\n",
    "    num_workers=0,\n",
    ")\n"
   ]
  },
  {
   "cell_type": "code",
   "execution_count": 15,
   "metadata": {},
   "outputs": [],
   "source": [
    "#定义超参数\n",
    "# input_num=200\n",
    "hidden_num = 100\n",
    "output_num = 1\n",
    "W1 = torch.tensor(np.random.normal(0, 1, (input_num,hidden_num)), dtype=torch.float32)  \n",
    "b1 = torch.zeros(1, dtype=torch.float32)\n",
    "W2 = torch.tensor(np.random.normal(0, 1, (hidden_num,output_num)), dtype=torch.float32)  \n",
    "b2 = torch.zeros(1, dtype=torch.float32)  \n",
    "params = [W1,b1,W2,b2]\n",
    "for param in params:\n",
    "    param.requires_grad_(requires_grad = True)\n"
   ]
  },
  {
   "cell_type": "code",
   "execution_count": 16,
   "metadata": {},
   "outputs": [],
   "source": [
    "def ReLU(x):\n",
    "    x=torch.max(x,torch.tensor(0.0))\n",
    "    return x\n"
   ]
  },
  {
   "cell_type": "code",
   "execution_count": 17,
   "metadata": {},
   "outputs": [],
   "source": [
    "def net(X):\n",
    "    X=X.view((-1,input_num))\n",
    "    H=ReLU(torch.mm(X,W1)+b1)\n",
    "    return torch.mm(H,W2)+b2 \n"
   ]
  },
  {
   "cell_type": "code",
   "execution_count": 18,
   "metadata": {},
   "outputs": [],
   "source": [
    "# 定义二分类交叉熵损失函数\n",
    "loss = torch.nn.BCEWithLogitsLoss()\n"
   ]
  },
  {
   "cell_type": "code",
   "execution_count": 19,
   "metadata": {},
   "outputs": [],
   "source": [
    "def SGD(params,lr,batch_size):\n",
    "    for param in params:\n",
    "        param.data -= lr * param.grad/batch_size\n"
   ]
  },
  {
   "cell_type": "code",
   "execution_count": 20,
   "metadata": {},
   "outputs": [],
   "source": [
    "def train(net,train_iter,test_iter,loss,num_epochs,batch_size,params = None,lr=None,optimizer=None):\n",
    "    train_loss=[]\n",
    "    test_loss=[]\n",
    "    for epoch in range(num_epochs):\n",
    "        train_l_sum=0.0\n",
    "        test_l_sum=0.0\n",
    "        n =0.0\n",
    "        \n",
    "        for X,y in train_iter:\n",
    "            y_hat = net(X)\n",
    "            \n",
    "            l = loss(y_hat,y.view(-1,1))\n",
    "            if optimizer is not None:\n",
    "                optimizer.zero_grad()\n",
    "            elif params is not None and params[0].grad is not None:\n",
    "                for param in params:\n",
    "                    param.grad.data.zero_()\n",
    "            l.backward()\n",
    "            if optimizer is None:\n",
    "                SGD(params,lr,batch_size)\n",
    "            else:\n",
    "                optimizer.step()\n",
    "        test_l_sum = loss(net(testfeatures),testlabels).item()\n",
    "        train_l_sum = loss(net(trainfeatures),trainlabels).item()\n",
    "        train_loss.append(train_l_sum)\n",
    "        test_loss.append(test_l_sum)\n",
    "        print(\"epoch %d,train_loss %.6f,test_loss %.6f\"%(epoch+1,train_loss[epoch],test_loss[epoch])) \n",
    "    return train_loss, test_loss\n"
   ]
  },
  {
   "cell_type": "code",
   "execution_count": 21,
   "metadata": {},
   "outputs": [
    {
     "name": "stdout",
     "output_type": "stream",
     "text": [
      "epoch 1,train_loss 40.740894,test_loss 39.768147\n",
      "epoch 2,train_loss 38.030621,test_loss 37.132191\n",
      "epoch 3,train_loss 35.526474,test_loss 34.727001\n",
      "epoch 4,train_loss 33.169727,test_loss 32.495556\n",
      "epoch 5,train_loss 30.977718,test_loss 30.383524\n",
      "epoch 6,train_loss 28.884285,test_loss 28.361347\n",
      "epoch 7,train_loss 26.998848,test_loss 26.538078\n",
      "epoch 8,train_loss 25.234083,test_loss 24.840137\n",
      "epoch 9,train_loss 23.569527,test_loss 23.260958\n",
      "epoch 10,train_loss 22.046097,test_loss 21.800690\n",
      "epoch 11,train_loss 20.649693,test_loss 20.465307\n",
      "epoch 12,train_loss 19.310963,test_loss 19.177921\n",
      "epoch 13,train_loss 18.103168,test_loss 18.022493\n",
      "epoch 14,train_loss 16.996235,test_loss 16.966692\n",
      "epoch 15,train_loss 15.960329,test_loss 15.972310\n",
      "epoch 16,train_loss 14.959616,test_loss 15.002446\n",
      "epoch 17,train_loss 13.994557,test_loss 14.064534\n",
      "epoch 18,train_loss 13.153212,test_loss 13.241766\n",
      "epoch 19,train_loss 12.427206,test_loss 12.537259\n",
      "epoch 20,train_loss 11.633265,test_loss 11.733957\n",
      "epoch 21,train_loss 10.951611,test_loss 11.068510\n",
      "epoch 22,train_loss 10.326230,test_loss 10.422870\n",
      "epoch 23,train_loss 9.934461,test_loss 10.074513\n",
      "epoch 24,train_loss 9.074804,test_loss 9.188594\n",
      "epoch 25,train_loss 8.538726,test_loss 8.661816\n",
      "epoch 26,train_loss 8.019153,test_loss 8.138858\n",
      "epoch 27,train_loss 7.543495,test_loss 7.669537\n",
      "epoch 28,train_loss 7.096320,test_loss 7.226274\n",
      "epoch 29,train_loss 6.655751,test_loss 6.778183\n",
      "epoch 30,train_loss 6.328731,test_loss 6.402236\n",
      "epoch 31,train_loss 5.865630,test_loss 5.976635\n",
      "epoch 32,train_loss 5.508392,test_loss 5.592704\n",
      "epoch 33,train_loss 5.195251,test_loss 5.265856\n",
      "epoch 34,train_loss 4.883458,test_loss 4.982288\n",
      "epoch 35,train_loss 4.551521,test_loss 4.621291\n",
      "epoch 36,train_loss 4.277541,test_loss 4.341395\n",
      "epoch 37,train_loss 4.035722,test_loss 4.087191\n",
      "epoch 38,train_loss 3.774620,test_loss 3.847399\n",
      "epoch 39,train_loss 3.531713,test_loss 3.593024\n",
      "epoch 40,train_loss 3.338496,test_loss 3.400145\n",
      "epoch 41,train_loss 3.125102,test_loss 3.163823\n",
      "epoch 42,train_loss 2.936204,test_loss 2.981295\n",
      "epoch 43,train_loss 2.802796,test_loss 2.850865\n",
      "epoch 44,train_loss 2.607861,test_loss 2.642311\n",
      "epoch 45,train_loss 2.505032,test_loss 2.544393\n",
      "epoch 46,train_loss 2.362360,test_loss 2.371886\n",
      "epoch 47,train_loss 2.374587,test_loss 2.413946\n",
      "epoch 48,train_loss 2.222736,test_loss 2.214411\n",
      "epoch 49,train_loss 1.997198,test_loss 2.010087\n",
      "epoch 50,train_loss 1.905521,test_loss 1.913410\n",
      "epoch 51,train_loss 1.827974,test_loss 1.829995\n",
      "epoch 52,train_loss 1.883581,test_loss 1.872297\n",
      "epoch 53,train_loss 2.043794,test_loss 2.024046\n",
      "epoch 54,train_loss 1.651372,test_loss 1.653298\n",
      "epoch 55,train_loss 1.618541,test_loss 1.617635\n",
      "epoch 56,train_loss 1.575506,test_loss 1.563618\n",
      "epoch 57,train_loss 1.476402,test_loss 1.469036\n",
      "epoch 58,train_loss 1.492371,test_loss 1.478680\n",
      "epoch 59,train_loss 1.486173,test_loss 1.479883\n",
      "epoch 60,train_loss 1.366232,test_loss 1.357273\n",
      "epoch 61,train_loss 1.369739,test_loss 1.360717\n",
      "epoch 62,train_loss 1.363241,test_loss 1.354463\n",
      "epoch 63,train_loss 1.320317,test_loss 1.311765\n",
      "epoch 64,train_loss 1.319280,test_loss 1.305618\n",
      "epoch 65,train_loss 1.230781,test_loss 1.219772\n",
      "epoch 66,train_loss 1.232486,test_loss 1.220414\n",
      "epoch 67,train_loss 1.507789,test_loss 1.502480\n",
      "epoch 68,train_loss 1.186801,test_loss 1.176717\n",
      "epoch 69,train_loss 1.156730,test_loss 1.148201\n",
      "epoch 70,train_loss 1.292413,test_loss 1.282243\n",
      "epoch 71,train_loss 1.124666,test_loss 1.116487\n",
      "epoch 72,train_loss 1.270505,test_loss 1.260858\n",
      "epoch 73,train_loss 1.096584,test_loss 1.089227\n",
      "epoch 74,train_loss 1.083104,test_loss 1.074564\n",
      "epoch 75,train_loss 1.088333,test_loss 1.081129\n",
      "epoch 76,train_loss 1.144538,test_loss 1.139482\n",
      "epoch 77,train_loss 1.066451,test_loss 1.060801\n",
      "epoch 78,train_loss 1.139643,test_loss 1.135107\n",
      "epoch 79,train_loss 1.062357,test_loss 1.055822\n",
      "epoch 80,train_loss 1.072360,test_loss 1.066890\n",
      "epoch 81,train_loss 1.260317,test_loss 1.256113\n",
      "epoch 82,train_loss 1.224224,test_loss 1.219961\n",
      "epoch 83,train_loss 1.085568,test_loss 1.080286\n",
      "epoch 84,train_loss 1.370815,test_loss 1.367616\n",
      "epoch 85,train_loss 1.238334,test_loss 1.233964\n",
      "epoch 86,train_loss 1.092927,test_loss 1.087483\n",
      "epoch 87,train_loss 1.066274,test_loss 1.062002\n",
      "epoch 88,train_loss 1.484494,test_loss 1.477552\n",
      "epoch 89,train_loss 1.010385,test_loss 1.007099\n",
      "epoch 90,train_loss 1.199682,test_loss 1.197930\n",
      "epoch 91,train_loss 0.942769,test_loss 0.939067\n",
      "epoch 92,train_loss 1.814617,test_loss 1.806243\n",
      "epoch 93,train_loss 0.962543,test_loss 0.957738\n",
      "epoch 94,train_loss 1.063079,test_loss 1.057312\n",
      "epoch 95,train_loss 1.056842,test_loss 1.053990\n",
      "epoch 96,train_loss 1.128611,test_loss 1.123454\n",
      "epoch 97,train_loss 1.334523,test_loss 1.327457\n",
      "epoch 98,train_loss 1.017716,test_loss 1.014040\n",
      "epoch 99,train_loss 0.906473,test_loss 0.902806\n",
      "epoch 100,train_loss 0.931823,test_loss 0.927632\n"
     ]
    }
   ],
   "source": [
    "lr = 0.01\n",
    "num_epochs = 100\n",
    "train_loss,test_loss = train(net,train_iter,test_iter,loss,num_epochs,batch_size,params,lr)\n"
   ]
  },
  {
   "cell_type": "code",
   "execution_count": 22,
   "metadata": {},
   "outputs": [
    {
     "data": {
      "image/png": "[encoded data removed]",
      "text/plain": [
       "<Figure size 432x288 with 1 Axes>"
      ]
     },
     "metadata": {
      "needs_background": "light"
     },
     "output_type": "display_data"
    }
   ],
   "source": [
    "import matplotlib.pyplot as plt\n",
    "x=np.linspace(0,len(train_loss),len(train_loss))\n",
    "plt.plot(x,train_loss,label=\"train_loss\",linewidth=1.5)\n",
    "plt.plot(x,test_loss,label=\"test_loss\",linewidth=1.5)\n",
    "plt.xlabel(\"epoch\")\n",
    "plt.ylabel(\"loss\")\n",
    "plt.legend()\n",
    "plt.show()\n"
   ]
  }
 ],
 "metadata": {
  "interpreter": {
   "hash": "3addd82ac062dad34bf9f77e57f8262851b1f983a3602463e95be784db4dec05"
  },
  "kernelspec": {
   "display_name": "Python 3 (ipykernel)",
   "language": "python",
   "name": "python3"
  },
  "language_info": {
   "codemirror_mode": {
    "name": "ipython",
    "version": 3
   },
   "file_extension": ".py",
   "mimetype": "text/x-python",
   "name": "python",
   "nbconvert_exporter": "python",
   "pygments_lexer": "ipython3",
   "version": "3.8.17"
  }
 },
 "nbformat": 4,
 "nbformat_minor": 2
}

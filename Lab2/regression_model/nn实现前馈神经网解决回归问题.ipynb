{
 "cells": [
  {
   "cell_type": "markdown",
   "id": "6ac2facf",
   "metadata": {},
   "source": [
    "# 使用前馈神经网络分别解决回归、二分类、多分类问题\n",
    "## ①回归问题"
   ]
  },
  {
   "cell_type": "code",
   "execution_count": 1,
   "id": "c4acc23e",
   "metadata": {},
   "outputs": [],
   "source": [
    "import torch\n",
    "import torch.nn as nn\n",
    "import torch.optim as optim\n",
    "import numpy as np\n",
    "import time"
   ]
  },
  {
   "cell_type": "code",
   "execution_count": 2,
   "id": "2baecee8",
   "metadata": {},
   "outputs": [],
   "source": [
    "## \n",
    "start_time = time.time()\n",
    "##利用torch.nn实现前馈神经网络解决上述回归，二分类、多分类问题\n",
    "# 定义前馈神经网络模型\n",
    "class FeedforwardNN(nn.Module):\n",
    "    def __init__(self, input_size, hidden_size, output_size):\n",
    "        super(FeedforwardNN, self).__init__()\n",
    "        self.fc1 = nn.Linear(input_size, hidden_size)\n",
    "        self.relu = nn.ReLU()\n",
    "        self.fc2 = nn.Linear(hidden_size, output_size)\n",
    "        \n",
    "    def forward(self, x):\n",
    "        out = self.fc1(x)\n",
    "        out = self.relu(out)\n",
    "        out = self.fc2(out)\n",
    "        return out"
   ]
  },
  {
   "cell_type": "code",
   "execution_count": 3,
   "id": "7372eb10",
   "metadata": {},
   "outputs": [],
   "source": [
    "# 设置参数和初始化数据\n",
    "num_inputs = 500\n",
    "n_train = 7000\n",
    "n_test = 3000\n",
    "true_w, true_b = torch.ones(num_inputs, 1) * 0.01, 0.05\n",
    "features = torch.randn((n_train + n_test, num_inputs))#生成正态分布的[10000, 500]矩阵 特征矩阵X\n",
    "labels = torch.matmul(features, true_w) + true_b  #初始化 y_hat矩阵\n",
    "\n",
    "labels += torch.tensor(np.random.normal(0, 0.01, size=labels.size()), dtype=torch.float)\n",
    "#是在标签中添加一个小的随机扰动，目的是为了在训练过程中引入一定程度的噪音，\n",
    "#增加模型的鲁棒性。这种操作常用于优化算法中，特别是在使用随机梯度下降（SGD）等优化算法时。\n",
    "\n",
    "train_features, test_features = features[:n_train, :], features[n_train:, :]\n",
    "#features[:n_train, :] 表示从 features 的第 0 行（包含）开始，取前 n_train 行作为训练集。\n",
    "#而 features[n_train:, :] 表示从 features 的第 n_train 行（不包含）开始，取剩余的行作为测试集。\n",
    "\n",
    "train_labels, test_labels = labels[:n_train], labels[n_train:]\n",
    "#生成y_hat的训练集和测试集"
   ]
  },
  {
   "cell_type": "code",
   "execution_count": 4,
   "id": "288969d1",
   "metadata": {},
   "outputs": [
    {
     "name": "stderr",
     "output_type": "stream",
     "text": [
      "/tmp/ipykernel_1995586/958049735.py:16: UserWarning: To copy construct from a tensor, it is recommended to use sourceTensor.clone().detach() or sourceTensor.clone().detach().requires_grad_(True), rather than torch.tensor(sourceTensor).\n",
      "  train_features = torch.tensor(train_features, dtype=torch.float)\n",
      "/tmp/ipykernel_1995586/958049735.py:17: UserWarning: To copy construct from a tensor, it is recommended to use sourceTensor.clone().detach() or sourceTensor.clone().detach().requires_grad_(True), rather than torch.tensor(sourceTensor).\n",
      "  train_labels = torch.tensor(train_labels, dtype=torch.float)\n"
     ]
    }
   ],
   "source": [
    "# 定义模型超参数\n",
    "input_size = num_inputs\n",
    "hidden_size = 100\n",
    "output_size = 1\n",
    "learning_rate = 0.01\n",
    "num_epochs = 100\n",
    "\n",
    "# 初始化模型\n",
    "model = FeedforwardNN(input_size, hidden_size, output_size)\n",
    "\n",
    "# 定义损失函数和优化器\n",
    "criterion = nn.MSELoss()\n",
    "optimizer = optim.SGD(model.parameters(), lr=learning_rate)\n",
    "\n",
    "# 转换数据为PyTorch的张量\n",
    "train_features = torch.tensor(train_features, dtype=torch.float)\n",
    "train_labels = torch.tensor(train_labels, dtype=torch.float)\n"
   ]
  },
  {
   "cell_type": "code",
   "execution_count": 5,
   "id": "4ebcb6f7",
   "metadata": {},
   "outputs": [
    {
     "name": "stderr",
     "output_type": "stream",
     "text": [
      "/tmp/ipykernel_1995586/2090118142.py:2: UserWarning: To copy construct from a tensor, it is recommended to use sourceTensor.clone().detach() or sourceTensor.clone().detach().requires_grad_(True), rather than torch.tensor(sourceTensor).\n",
      "  test_features = torch.tensor(test_features, dtype=torch.float)\n",
      "/tmp/ipykernel_1995586/2090118142.py:3: UserWarning: To copy construct from a tensor, it is recommended to use sourceTensor.clone().detach() or sourceTensor.clone().detach().requires_grad_(True), rather than torch.tensor(sourceTensor).\n",
      "  test_labels = torch.tensor(test_labels, dtype=torch.float)\n"
     ]
    },
    {
     "name": "stdout",
     "output_type": "stream",
     "text": [
      "Epoch [10/100], Loss: 0.0833\n",
      "Epoch [20/100], Loss: 0.0753\n",
      "Epoch [30/100], Loss: 0.0715\n",
      "Epoch [40/100], Loss: 0.0682\n",
      "Epoch [50/100], Loss: 0.0653\n",
      "Epoch [60/100], Loss: 0.0627\n",
      "Epoch [70/100], Loss: 0.0603\n",
      "Epoch [80/100], Loss: 0.0581\n",
      "Epoch [90/100], Loss: 0.0561\n",
      "Epoch [100/100], Loss: 0.0543\n",
      "模型的training_time为5.64秒\n"
     ]
    }
   ],
   "source": [
    "# 使用测试集评估模型\n",
    "test_features = torch.tensor(test_features, dtype=torch.float)\n",
    "test_labels = torch.tensor(test_labels, dtype=torch.float)\n",
    "\n",
    "# 训练模型\n",
    "for epoch in range(num_epochs):\n",
    "    # 前向传播\n",
    "    outputs = model(train_features)\n",
    "    loss = criterion(outputs, train_labels)\n",
    "    \n",
    "    # 反向传播和优化\n",
    "    optimizer.zero_grad()\n",
    "    loss.backward()\n",
    "    optimizer.step()\n",
    "    \n",
    "    if (epoch+1) % 10 == 0:\n",
    "        print(f'Epoch [{epoch+1}/{num_epochs}], Loss: {loss.item():.4f}')\n",
    "#         with torch.no_grad():\n",
    "#             test_outputs = model(test_features)\n",
    "#             test_loss = criterion(test_outputs, test_labels)\n",
    "#         print(f'Test Loss: {test_loss.item():.4f}')\n",
    "    \n",
    "\n",
    "    \n",
    "end_time = time.time()\n",
    "training_time = end_time - start_time\n",
    "print(\"模型的training_time为\"+str(round(training_time,2))+\"秒\" )"
   ]
  },
  {
   "cell_type": "code",
   "execution_count": 6,
   "id": "3ac04e94",
   "metadata": {},
   "outputs": [
    {
     "name": "stdout",
     "output_type": "stream",
     "text": [
      "Test Loss: 0.0554\n"
     ]
    },
    {
     "name": "stderr",
     "output_type": "stream",
     "text": [
      "/tmp/ipykernel_1995586/4006208821.py:2: UserWarning: To copy construct from a tensor, it is recommended to use sourceTensor.clone().detach() or sourceTensor.clone().detach().requires_grad_(True), rather than torch.tensor(sourceTensor).\n",
      "  test_features = torch.tensor(test_features, dtype=torch.float)\n",
      "/tmp/ipykernel_1995586/4006208821.py:3: UserWarning: To copy construct from a tensor, it is recommended to use sourceTensor.clone().detach() or sourceTensor.clone().detach().requires_grad_(True), rather than torch.tensor(sourceTensor).\n",
      "  test_labels = torch.tensor(test_labels, dtype=torch.float)\n"
     ]
    }
   ],
   "source": [
    "# 使用测试集评估模型\n",
    "test_features = torch.tensor(test_features, dtype=torch.float)\n",
    "test_labels = torch.tensor(test_labels, dtype=torch.float)\n",
    "with torch.no_grad():\n",
    "    test_outputs = model(test_features)\n",
    "    test_loss = criterion(test_outputs, test_labels)\n",
    "print(f'Test Loss: {test_loss.item():.4f}')\n"
   ]
  },
  {
   "cell_type": "code",
   "execution_count": null,
   "id": "7f960b7d",
   "metadata": {},
   "outputs": [],
   "source": []
  }
 ],
 "metadata": {
  "kernelspec": {
   "display_name": "Python 3 (ipykernel)",
   "language": "python",
   "name": "python3"
  },
  "language_info": {
   "codemirror_mode": {
    "name": "ipython",
    "version": 3
   },
   "file_extension": ".py",
   "mimetype": "text/x-python",
   "name": "python",
   "nbconvert_exporter": "python",
   "pygments_lexer": "ipython3",
   "version": "3.8.17"
  }
 },
 "nbformat": 4,
 "nbformat_minor": 5
}

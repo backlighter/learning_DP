{
 "cells": [
  {
   "cell_type": "markdown",
   "id": "ce159a69",
   "metadata": {},
   "source": [
    "# 手动实现前馈神经网络\n",
    "## ①解决回归问题"
   ]
  },
  {
   "cell_type": "markdown",
   "id": "5f8e4f44",
   "metadata": {},
   "source": [
    "### 定义前馈神经网络FeedforwardNN、均方差损失函数、梯度下降函数"
   ]
  },
  {
   "cell_type": "code",
   "execution_count": 1,
   "id": "eb26ffec",
   "metadata": {},
   "outputs": [],
   "source": [
    "import torch\n",
    "import torch.nn.functional as F\n",
    "import numpy as np\n",
    "\n",
    "# 定义前馈神经网络模型\n",
    "class FeedforwardNN:\n",
    "    def __init__(self, input_size, hidden_size, output_size):\n",
    "        self.input_size = input_size\n",
    "        self.hidden_size = hidden_size\n",
    "        self.output_size = output_size\n",
    "        \n",
    "        # 初始化权重和偏置\n",
    "        self.W1 = torch.randn(input_size, hidden_size, requires_grad=True)\n",
    "        self.b1 = torch.zeros(hidden_size, requires_grad=True)\n",
    "        self.W2 = torch.randn(hidden_size, output_size, requires_grad=True)\n",
    "        self.b2 = torch.zeros(output_size, requires_grad=True)\n",
    "\n",
    "    def forward(self, x):\n",
    "        # 第一个隐藏层\n",
    "        h1 = torch.relu(torch.matmul(x, self.W1) + self.b1)\n",
    "        # 输出层\n",
    "        out = torch.matmul(h1, self.W2) + self.b2\n",
    "        return out\n",
    "\n",
    "# 定义均方误差损失函数\n",
    "def mean_squared_error(y_pred, y_true):\n",
    "    return ((y_pred - y_true)**2).mean()\n",
    "\n",
    "# 定义梯度下降优化函数\n",
    "def gradient_descent(model, lr, batch_size):\n",
    "    with torch.no_grad():\n",
    "        model.W1 -= lr * model.W1.grad / batch_size\n",
    "        model.b1 -= lr * model.b1.grad / batch_size\n",
    "        model.W2 -= lr * model.W2.grad / batch_size\n",
    "        model.b2 -= lr * model.b2.grad / batch_size\n",
    "\n",
    "        # 清除梯度\n",
    "        model.W1.grad.zero_()\n",
    "        model.b1.grad.zero_()\n",
    "        model.W2.grad.zero_()\n",
    "        model.b2.grad.zero_()"
   ]
  },
  {
   "cell_type": "code",
   "execution_count": 2,
   "id": "6d7b90bc",
   "metadata": {},
   "outputs": [],
   "source": [
    "# 设置参数和初始化数据\n",
    "num_inputs = 500\n",
    "n_train = 7000\n",
    "n_test = 3000\n",
    "true_w, true_b = torch.ones(num_inputs, 1) * 0.01, 0.05\n",
    "features = torch.randn((n_train + n_test, num_inputs))#生成正态分布的[10000, 500]矩阵 特征矩阵X\n",
    "labels = torch.matmul(features, true_w) + true_b  #初始化 y_hat矩阵\n",
    "\n",
    "labels += torch.tensor(np.random.normal(0, 0.01, size=labels.size()), dtype=torch.float)\n",
    "#是在标签中添加一个小的随机扰动，目的是为了在训练过程中引入一定程度的噪音，\n",
    "#增加模型的鲁棒性。这种操作常用于优化算法中，特别是在使用随机梯度下降（SGD）等优化算法时。\n",
    "\n",
    "train_features, test_features = features[:n_train, :], features[n_train:, :]\n",
    "#features[:n_train, :] 表示从 features 的第 0 行（包含）开始，取前 n_train 行作为训练集。\n",
    "#而 features[n_train:, :] 表示从 features 的第 n_train 行（不包含）开始，取剩余的行作为测试集。\n",
    "\n",
    "train_labels, test_labels = labels[:n_train], labels[n_train:]\n",
    "#生成y_hat的训练集和测试集"
   ]
  },
  {
   "cell_type": "code",
   "execution_count": 7,
   "id": "310ed892",
   "metadata": {},
   "outputs": [
    {
     "data": {
      "text/plain": [
       "torch.Size([10000, 1])"
      ]
     },
     "execution_count": 7,
     "metadata": {},
     "output_type": "execute_result"
    }
   ],
   "source": [
    "# 初始化模型参数\n",
    "hidden_size = 128\n",
    "output_size = 1\n",
    "model = FeedforwardNN(num_inputs, hidden_size, output_size)\n",
    "\n",
    "# 训练模型\n",
    "num_epochs = 10\n",
    "batch_size = 100\n",
    "lr = 0.001"
   ]
  },
  {
   "cell_type": "code",
   "execution_count": null,
   "id": "ad5b9378",
   "metadata": {},
   "outputs": [],
   "source": [
    "#训练模型\n",
    "for epoch in range(num_epochs):\n",
    "    for i in range(0, n_train, batch_size):\n",
    "        X = train_features[i:i + batch_size]\n",
    "        y = train_labels[i:i + batch_size]\n",
    "\n",
    "        # 前向传播\n",
    "        y_pred = model.forward(X)\n",
    "        loss = mean_squared_error(y_pred, y)\n",
    "\n",
    "        # 反向传播\n",
    "        loss.backward()\n",
    "\n",
    "        # 使用梯度下降优化函数更新参数\n",
    "        gradient_descent(model, lr, batch_size)\n",
    "\n",
    "    print(f'Epoch [{epoch+1}/{num_epochs}], Loss: {loss.item():.4f}')\n",
    "\n",
    "# 测试模型\n",
    "with torch.no_grad():\n",
    "    test_outputs = model.forward(test_features)\n",
    "    test_loss = mean_squared_error(test_outputs, test_labels)\n",
    "    print(f\"Test Loss: {test_loss.item():.4f}\")\n"
   ]
  }
 ],
 "metadata": {
  "kernelspec": {
   "display_name": "Python 3 (ipykernel)",
   "language": "python",
   "name": "python3"
  },
  "language_info": {
   "codemirror_mode": {
    "name": "ipython",
    "version": 3
   },
   "file_extension": ".py",
   "mimetype": "text/x-python",
   "name": "python",
   "nbconvert_exporter": "python",
   "pygments_lexer": "ipython3",
   "version": "3.8.17"
  }
 },
 "nbformat": 4,
 "nbformat_minor": 5
}

{
 "cells": [
  {
   "cell_type": "code",
   "execution_count": 3,
   "id": "4778fa49",
   "metadata": {},
   "outputs": [],
   "source": [
    "import torch\n",
    "import torch.nn as nn\n",
    "import torch.optim as optim\n",
    "import numpy as np\n",
    "num_inputs = 500\n",
    "n_train=7000\n",
    "n_test=3000\n",
    "true_w,true_b=torch.ones(num_inputs,1)*0.01,0.05\n",
    "#生成数据集\n",
    "features = torch.randn((n_train+n_test,num_inputs))\n",
    "labels = torch.matmul(features,true_w)+true_b\n",
    "labels += torch.tensor(np.random.normal(0,0.01,size=labels.size()),dtype=torch.float)\n",
    "train_features,test_features=features[:n_train,:],features[n_train:,:]\n",
    "train_labels,test_labels=labels[:n_train],labels[n_train:]"
   ]
  },
  {
   "cell_type": "code",
   "execution_count": 11,
   "id": "ea401fe3",
   "metadata": {},
   "outputs": [
    {
     "name": "stderr",
     "output_type": "stream",
     "text": [
      "/tmp/ipykernel_804372/3086669101.py:35: UserWarning: To copy construct from a tensor, it is recommended to use sourceTensor.clone().detach() or sourceTensor.clone().detach().requires_grad_(True), rather than torch.tensor(sourceTensor).\n",
      "  train_features = torch.tensor(train_features, dtype=torch.float)\n",
      "/tmp/ipykernel_804372/3086669101.py:36: UserWarning: To copy construct from a tensor, it is recommended to use sourceTensor.clone().detach() or sourceTensor.clone().detach().requires_grad_(True), rather than torch.tensor(sourceTensor).\n",
      "  train_labels = torch.tensor(train_labels, dtype=torch.float)\n"
     ]
    },
    {
     "name": "stdout",
     "output_type": "stream",
     "text": [
      "Epoch [10/100], Loss: 0.0894\n",
      "Epoch [20/100], Loss: 0.0836\n",
      "Epoch [30/100], Loss: 0.0788\n",
      "Epoch [40/100], Loss: 0.0746\n",
      "Epoch [50/100], Loss: 0.0708\n",
      "Epoch [60/100], Loss: 0.0674\n",
      "Epoch [70/100], Loss: 0.0644\n",
      "Epoch [80/100], Loss: 0.0616\n",
      "Epoch [90/100], Loss: 0.0591\n",
      "Epoch [100/100], Loss: 0.0568\n",
      "模型的training_time为3.9203221797943115秒\n",
      "Test Loss: 0.0590\n"
     ]
    },
    {
     "name": "stderr",
     "output_type": "stream",
     "text": [
      "/tmp/ipykernel_804372/3086669101.py:59: UserWarning: To copy construct from a tensor, it is recommended to use sourceTensor.clone().detach() or sourceTensor.clone().detach().requires_grad_(True), rather than torch.tensor(sourceTensor).\n",
      "  test_features = torch.tensor(test_features, dtype=torch.float)\n",
      "/tmp/ipykernel_804372/3086669101.py:60: UserWarning: To copy construct from a tensor, it is recommended to use sourceTensor.clone().detach() or sourceTensor.clone().detach().requires_grad_(True), rather than torch.tensor(sourceTensor).\n",
      "  test_labels = torch.tensor(test_labels, dtype=torch.float)\n"
     ]
    }
   ],
   "source": [
    "import time\n",
    "\n",
    "\n",
    "start_time = time.time()\n",
    "##利用torch.nn实现前馈神经网络解决上述回归，二分类、多分类问题\n",
    "# 定义前馈神经网络模型\n",
    "class FeedforwardNN(nn.Module):\n",
    "    def __init__(self, input_size, hidden_size, output_size):\n",
    "        super(FeedforwardNN, self).__init__()\n",
    "        self.fc1 = nn.Linear(input_size, hidden_size)\n",
    "        self.relu = nn.ReLU()\n",
    "        self.fc2 = nn.Linear(hidden_size, output_size)\n",
    "        \n",
    "    def forward(self, x):\n",
    "        out = self.fc1(x)\n",
    "        out = self.relu(out)\n",
    "        out = self.fc2(out)\n",
    "        return out\n",
    "\n",
    "# 定义模型超参数\n",
    "input_size = num_inputs\n",
    "hidden_size = 100\n",
    "output_size = 1\n",
    "learning_rate = 0.01\n",
    "num_epochs = 100\n",
    "\n",
    "# 初始化模型\n",
    "model = FeedforwardNN(input_size, hidden_size, output_size)\n",
    "\n",
    "# 定义损失函数和优化器\n",
    "criterion = nn.MSELoss()\n",
    "optimizer = optim.SGD(model.parameters(), lr=learning_rate)\n",
    "\n",
    "# 转换数据为PyTorch的张量\n",
    "train_features = torch.tensor(train_features, dtype=torch.float)\n",
    "train_labels = torch.tensor(train_labels, dtype=torch.float)\n",
    "\n",
    "# 训练模型\n",
    "for epoch in range(num_epochs):\n",
    "    # 前向传播\n",
    "    outputs = model(train_features)\n",
    "    loss = criterion(outputs, train_labels)\n",
    "    \n",
    "    # 反向传播和优化\n",
    "    optimizer.zero_grad()\n",
    "    loss.backward()\n",
    "    optimizer.step()\n",
    "    \n",
    "    if (epoch+1) % 10 == 0:\n",
    "        print(f'Epoch [{epoch+1}/{num_epochs}], Loss: {loss.item():.4f}')\n",
    "\n",
    "        \n",
    "        \n",
    "end_time = time.time()\n",
    "training_time = end_time - start_time\n",
    "print(\"模型的training_time为\"+str(round(training_time,2))+\"秒\" )\n",
    "\n",
    "# 使用测试集评估模型\n",
    "test_features = torch.tensor(test_features, dtype=torch.float)\n",
    "test_labels = torch.tensor(test_labels, dtype=torch.float)\n",
    "with torch.no_grad():\n",
    "    test_outputs = model(test_features)\n",
    "    test_loss = criterion(test_outputs, test_labels)\n",
    "print(f'Test Loss: {test_loss.item():.4f}')\n",
    "\n"
   ]
  },
  {
   "cell_type": "code",
   "execution_count": null,
   "id": "6602e463",
   "metadata": {},
   "outputs": [],
   "source": []
  }
 ],
 "metadata": {
  "kernelspec": {
   "display_name": "Python 3 (ipykernel)",
   "language": "python",
   "name": "python3"
  },
  "language_info": {
   "codemirror_mode": {
    "name": "ipython",
    "version": 3
   },
   "file_extension": ".py",
   "mimetype": "text/x-python",
   "name": "python",
   "nbconvert_exporter": "python",
   "pygments_lexer": "ipython3",
   "version": "3.8.17"
  }
 },
 "nbformat": 4,
 "nbformat_minor": 5
}

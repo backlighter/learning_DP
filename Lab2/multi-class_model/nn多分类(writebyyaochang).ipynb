{
 "cells": [
  {
   "cell_type": "code",
   "execution_count": 1,
   "id": "60f3df5f",
   "metadata": {},
   "outputs": [],
   "source": [
    "import torch\n",
    "from torch import nn\n",
    "import torch.utils.data as Data\n",
    "import torch.optim as optim\n",
    "from torch.nn import init\n",
    "import torchvision\n",
    "import torchvision.transforms as transforms\n",
    "import numpy as np\n",
    "import random\n",
    "from IPython import display\n",
    "from matplotlib import pyplot as plt\n"
   ]
  },
  {
   "cell_type": "code",
   "execution_count": 2,
   "id": "9f9f2b43",
   "metadata": {},
   "outputs": [
    {
     "name": "stdout",
     "output_type": "stream",
     "text": [
      "Downloading http://yann.lecun.com/exdb/mnist/train-images-idx3-ubyte.gz\n"
     ]
    },
    {
     "name": "stderr",
     "output_type": "stream",
     "text": [
      "1.7%"
     ]
    },
    {
     "name": "stdout",
     "output_type": "stream",
     "text": [
      "Downloading http://yann.lecun.com/exdb/mnist/train-images-idx3-ubyte.gz to ./Datasets/MNIST/MNIST/raw/train-images-idx3-ubyte.gz\n"
     ]
    },
    {
     "name": "stderr",
     "output_type": "stream",
     "text": [
      "100.0%\n"
     ]
    },
    {
     "name": "stdout",
     "output_type": "stream",
     "text": [
      "Extracting ./Datasets/MNIST/MNIST/raw/train-images-idx3-ubyte.gz to ./Datasets/MNIST/MNIST/raw\n"
     ]
    },
    {
     "name": "stderr",
     "output_type": "stream",
     "text": [
      "\r",
      "100.0%"
     ]
    },
    {
     "name": "stdout",
     "output_type": "stream",
     "text": [
      "\n",
      "Downloading http://yann.lecun.com/exdb/mnist/train-labels-idx1-ubyte.gz\n",
      "Downloading http://yann.lecun.com/exdb/mnist/train-labels-idx1-ubyte.gz to ./Datasets/MNIST/MNIST/raw/train-labels-idx1-ubyte.gz\n"
     ]
    },
    {
     "name": "stderr",
     "output_type": "stream",
     "text": [
      "\n"
     ]
    },
    {
     "name": "stdout",
     "output_type": "stream",
     "text": [
      "Extracting ./Datasets/MNIST/MNIST/raw/train-labels-idx1-ubyte.gz to ./Datasets/MNIST/MNIST/raw\n",
      "\n",
      "Downloading http://yann.lecun.com/exdb/mnist/t10k-images-idx3-ubyte.gz\n",
      "Downloading http://yann.lecun.com/exdb/mnist/t10k-images-idx3-ubyte.gz to ./Datasets/MNIST/MNIST/raw/t10k-images-idx3-ubyte.gz\n"
     ]
    },
    {
     "name": "stderr",
     "output_type": "stream",
     "text": [
      "100.0%\n"
     ]
    },
    {
     "name": "stdout",
     "output_type": "stream",
     "text": [
      "Extracting ./Datasets/MNIST/MNIST/raw/t10k-images-idx3-ubyte.gz to ./Datasets/MNIST/MNIST/raw\n",
      "\n",
      "Downloading http://yann.lecun.com/exdb/mnist/t10k-labels-idx1-ubyte.gz\n"
     ]
    },
    {
     "name": "stderr",
     "output_type": "stream",
     "text": [
      "\r",
      "100.0%"
     ]
    },
    {
     "name": "stdout",
     "output_type": "stream",
     "text": [
      "Downloading http://yann.lecun.com/exdb/mnist/t10k-labels-idx1-ubyte.gz to ./Datasets/MNIST/MNIST/raw/t10k-labels-idx1-ubyte.gz\n",
      "Extracting ./Datasets/MNIST/MNIST/raw/t10k-labels-idx1-ubyte.gz to ./Datasets/MNIST/MNIST/raw\n",
      "\n"
     ]
    },
    {
     "name": "stderr",
     "output_type": "stream",
     "text": [
      "\n"
     ]
    }
   ],
   "source": [
    "train_dataset = torchvision.datasets.MNIST(root='./Datasets/MNIST', train=True,  download=True, transform=transforms.ToTensor())  \n",
    "test_dataset = torchvision.datasets.MNIST(root='./Datasets/MNIST', train=False,  download=True, transform=transforms.ToTensor())  \n"
   ]
  },
  {
   "cell_type": "code",
   "execution_count": 3,
   "id": "68ab0351",
   "metadata": {},
   "outputs": [],
   "source": [
    "batch_size = 32  \n",
    "train_iter = torch.utils.data.DataLoader(train_dataset, batch_size=batch_size, shuffle=True,  num_workers=0)  \n",
    "test_iter = torch.utils.data.DataLoader(test_dataset, batch_size=batch_size, shuffle=False,  num_workers=0) \n"
   ]
  },
  {
   "cell_type": "code",
   "execution_count": 4,
   "id": "f2c40821",
   "metadata": {},
   "outputs": [],
   "source": [
    "\n",
    "input_num=784 #28*28\n",
    "hidden_num=256\n",
    "output_num=10\n",
    "\n",
    "class FlattenLayer(nn.Module):\n",
    "    def _init_(self):\n",
    "        super(FlattenLayer,self)._init_()\n",
    "    def forward(self, x):\n",
    "        return x.view(x.shape[0],-1)\n",
    "#模型定义\n",
    "net1 = nn.Sequential(\n",
    "        FlattenLayer(),\n",
    "        nn.Linear(input_num,hidden_num),\n",
    "        nn.ReLU(),\n",
    "        # nn.ELU()\n",
    "        # nn.Sigmoid()\n",
    "        nn.Linear(hidden_num,output_num)\n",
    "    )\n",
    "\n",
    "net2 = nn.Sequential(\n",
    "        FlattenLayer(),\n",
    "        nn.Linear(input_num,hidden_num),\n",
    "        # nn.ReLU(),\n",
    "        nn.ELU(),\n",
    "        # nn.Sigmoid()\n",
    "        nn.Linear(hidden_num,output_num)\n",
    "    )\n",
    "\n",
    "net3 = nn.Sequential(\n",
    "        FlattenLayer(),\n",
    "        nn.Linear(input_num,hidden_num),\n",
    "        # nn.ReLU(),\n",
    "        # nn.ELU()\n",
    "        nn.Sigmoid(),\n",
    "        nn.Linear(hidden_num,output_num)\n",
    "    )\n"
   ]
  },
  {
   "cell_type": "code",
   "execution_count": 5,
   "id": "73cd91fa",
   "metadata": {},
   "outputs": [],
   "source": [
    "for param in net1.parameters():\n",
    "    init.normal_(param,mean=0,std=0.01)\n",
    "\n",
    "for param in net2.parameters():\n",
    "    init.normal_(param,mean=0,std=0.01)\n",
    "\n",
    "for param in net3.parameters():\n",
    "    init.normal_(param,mean=0,std=0.01)\n"
   ]
  },
  {
   "cell_type": "code",
   "execution_count": 6,
   "id": "bedf4bdd",
   "metadata": {},
   "outputs": [],
   "source": [
    "lr=0.01\n",
    "loss = torch.nn.CrossEntropyLoss()\n",
    "optimizer1 = optim.SGD(net1.parameters(),lr)\n",
    "optimizer2 = optim.SGD(net2.parameters(),lr)\n",
    "optimizer3 = optim.SGD(net3.parameters(),lr)\n"
   ]
  },
  {
   "cell_type": "code",
   "execution_count": 7,
   "id": "2d680efc",
   "metadata": {},
   "outputs": [],
   "source": [
    "def evaluate_accuracy_loss(net, data_iter):\n",
    "    acc_sum=0.0\n",
    "    loss_sum=0.0\n",
    "    n=0\n",
    "    for X,y in data_iter:\n",
    "        y_hat = net(X)\n",
    "        acc_sum += (y_hat.argmax(dim=1)==y).sum().item()\n",
    "        l = loss(y_hat,y)\n",
    "        loss_sum += l.item()*y.shape[0]\n",
    "        n+=y.shape[0]\n",
    "    return acc_sum/n,loss_sum/n\n"
   ]
  },
  {
   "cell_type": "code",
   "execution_count": 8,
   "id": "2eca132a",
   "metadata": {},
   "outputs": [],
   "source": [
    "\n",
    "def train3 (net,train_iter,test_iter,loss,epoch_num,batch_size,params = None,lr=None,optimizer=None):\n",
    "    train_loss=[]\n",
    "    test_loss=[]\n",
    "    for epoch in range(epoch_num):\n",
    "        train_l_sum=0.0\n",
    "        train_acc_num=0.0\n",
    "        n =0.0\n",
    "        for X,y in train_iter:\n",
    "            y_hat = net(X)\n",
    "            \n",
    "            l = loss(y_hat,y)\n",
    "            #梯度清零\n",
    "            if optimizer is not None:\n",
    "                optimizer.zero_grad()\n",
    "            elif params is not None and params[0].grad is not None:\n",
    "                for param in params:\n",
    "                    param.grad.data.zero_()\n",
    "            l.backward()\n",
    "            if optimizer is None:\n",
    "                SGD(params,lr,batch_size)\n",
    "            else:\n",
    "                optimizer.step()\n",
    "            \n",
    "            train_l_sum += l.item()*y.shape[0]\n",
    "            \n",
    "            train_acc_num += (y_hat.argmax(dim=1)==y).sum().item()\n",
    "            n += y.shape[0]\n",
    "     \n",
    "        train_loss.append(train_l_sum/n)#训练集loss\n",
    "        test_acc,test_l = evaluate_accuracy_loss(net,test_iter)\n",
    "        test_loss.append(test_l)\n",
    "        print(\"epoch %d,train_loss %.6f,test_loss %.6f,train_acc %.6f,test_acc %.6f\"%(epoch+1,train_loss[epoch],test_loss[epoch],train_acc_num/n,test_acc)) \n",
    "    return train_loss, test_loss\n"
   ]
  },
  {
   "cell_type": "code",
   "execution_count": null,
   "id": "db1cf02e",
   "metadata": {},
   "outputs": [],
   "source": [
    "lr = 0.01\n",
    "epoch_num=100\n",
    "train_loss,test_loss=train3(net1,train_iter,test_iter,loss,epoch_num,batch_size,net1.parameters(),lr,optimizer1)"
   ]
  },
  {
   "cell_type": "code",
   "execution_count": null,
   "id": "f1413c17",
   "metadata": {},
   "outputs": [],
   "source": []
  }
 ],
 "metadata": {
  "kernelspec": {
   "display_name": "Python 3 (ipykernel)",
   "language": "python",
   "name": "python3"
  },
  "language_info": {
   "codemirror_mode": {
    "name": "ipython",
    "version": 3
   },
   "file_extension": ".py",
   "mimetype": "text/x-python",
   "name": "python",
   "nbconvert_exporter": "python",
   "pygments_lexer": "ipython3",
   "version": "3.8.17"
  }
 },
 "nbformat": 4,
 "nbformat_minor": 5
}
